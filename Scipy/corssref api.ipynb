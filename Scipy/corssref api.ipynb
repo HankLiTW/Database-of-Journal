{
 "cells": [
  {
   "cell_type": "code",
   "execution_count": null,
   "id": "initial_id",
   "metadata": {
    "collapsed": true
   },
   "outputs": [],
   "source": []
  },
  {
   "cell_type": "code",
   "execution_count": 1,
   "outputs": [],
   "source": [
    "import pandas as pd\n",
    "from crossref.restful import Works"
   ],
   "metadata": {
    "collapsed": false,
    "ExecuteTime": {
     "end_time": "2023-10-22T10:40:56.467545900Z",
     "start_time": "2023-10-22T10:40:55.964776500Z"
    }
   },
   "id": "feb88350dddbee83"
  },
  {
   "cell_type": "code",
   "execution_count": 20,
   "outputs": [],
   "source": [
    "journal_title = 'The Journal of Industrial Economics'"
   ],
   "metadata": {
    "collapsed": false,
    "ExecuteTime": {
     "end_time": "2023-10-22T10:52:14.355079900Z",
     "start_time": "2023-10-22T10:52:14.343005700Z"
    }
   },
   "id": "c6f71533fecf565c"
  },
  {
   "cell_type": "code",
   "execution_count": 43,
   "outputs": [],
   "source": [
    "works = Works()\n",
    "query_result = works.query(container_title=journal_title).query(publisher_name='Wiley-Blackwell')"
   ],
   "metadata": {
    "collapsed": false,
    "ExecuteTime": {
     "end_time": "2023-10-22T11:07:41.658358400Z",
     "start_time": "2023-10-22T11:07:41.643370100Z"
    }
   },
   "id": "38c7f09cf48de36f"
  },
  {
   "cell_type": "code",
   "execution_count": 44,
   "outputs": [
    {
     "data": {
      "text/plain": "<crossref.restful.Works at 0x224874c5690>"
     },
     "execution_count": 44,
     "metadata": {},
     "output_type": "execute_result"
    }
   ],
   "source": [
    "query_result.select([\"DOI\",\"container-title\"])"
   ],
   "metadata": {
    "collapsed": false,
    "ExecuteTime": {
     "end_time": "2023-10-22T11:07:41.993055700Z",
     "start_time": "2023-10-22T11:07:41.986755500Z"
    }
   },
   "id": "6613b38a3c6af324"
  },
  {
   "cell_type": "code",
   "execution_count": 53,
   "outputs": [
    {
     "ename": "KeyboardInterrupt",
     "evalue": "",
     "output_type": "error",
     "traceback": [
      "\u001B[1;31m---------------------------------------------------------------------------\u001B[0m",
      "\u001B[1;31mKeyboardInterrupt\u001B[0m                         Traceback (most recent call last)",
      "Cell \u001B[1;32mIn[53], line 3\u001B[0m\n\u001B[0;32m      1\u001B[0m \u001B[38;5;66;03m#Select field's specified as (container_title) but must be one of: DOI, ISBN, ISSN, URL, abstract, accepted, alternative-id, approved, archive, article-number, assertion, author, chair, clinical-trial-number, container-title, content-created, content-domain, created, degree, deposited, editor, event, funder, group-title, indexed, is-referenced-by-count, issn-type, issue, issued, license, link, member, original-title, page, posted, prefix, published, published-online, published-print, publisher, publisher-location, reference, references-count, relation, score, short-container-title, short-title, standards-body, subject, subtitle, title, translator, type, update-policy, update-to, updated-by, volume\u001B[39;00m\n\u001B[0;32m      2\u001B[0m count \u001B[38;5;241m=\u001B[39m \u001B[38;5;241m0\u001B[39m \n\u001B[1;32m----> 3\u001B[0m \u001B[38;5;28;43;01mfor\u001B[39;49;00m\u001B[43m \u001B[49m\u001B[43mitem\u001B[49m\u001B[43m \u001B[49m\u001B[38;5;129;43;01min\u001B[39;49;00m\u001B[43m \u001B[49m\u001B[43mquery_result\u001B[49m\u001B[38;5;241;43m.\u001B[39;49m\u001B[43msort\u001B[49m\u001B[43m(\u001B[49m\u001B[38;5;124;43m\"\u001B[39;49m\u001B[38;5;124;43mrelevance\u001B[39;49m\u001B[38;5;124;43m\"\u001B[39;49m\u001B[43m)\u001B[49m\u001B[38;5;241;43m.\u001B[39;49m\u001B[43mselect\u001B[49m\u001B[43m(\u001B[49m\u001B[43m[\u001B[49m\u001B[38;5;124;43m\"\u001B[39;49m\u001B[38;5;124;43mDOI\u001B[39;49m\u001B[38;5;124;43m\"\u001B[39;49m\u001B[43m,\u001B[49m\u001B[38;5;124;43m\"\u001B[39;49m\u001B[38;5;124;43mcontainer-title\u001B[39;49m\u001B[38;5;124;43m\"\u001B[39;49m\u001B[43m]\u001B[49m\u001B[43m)\u001B[49m\u001B[43m:\u001B[49m\n\u001B[0;32m      4\u001B[0m \u001B[43m    \u001B[49m\u001B[38;5;28;43mtype\u001B[39;49m\u001B[43m(\u001B[49m\u001B[43mitem\u001B[49m\u001B[43m)\u001B[49m\n",
      "File \u001B[1;32mD:\\Program Files\\Python311\\Lib\\site-packages\\crossref\\restful.py:310\u001B[0m, in \u001B[0;36mEndpoint.__iter__\u001B[1;34m(self)\u001B[0m\n\u001B[0;32m    308\u001B[0m request_params[\u001B[38;5;124m\"\u001B[39m\u001B[38;5;124mrows\u001B[39m\u001B[38;5;124m\"\u001B[39m] \u001B[38;5;241m=\u001B[39m LIMIT\n\u001B[0;32m    309\u001B[0m \u001B[38;5;28;01mwhile\u001B[39;00m \u001B[38;5;28;01mTrue\u001B[39;00m:\n\u001B[1;32m--> 310\u001B[0m     result \u001B[38;5;241m=\u001B[39m \u001B[38;5;28;43mself\u001B[39;49m\u001B[38;5;241;43m.\u001B[39;49m\u001B[43mdo_http_request\u001B[49m\u001B[43m(\u001B[49m\n\u001B[0;32m    311\u001B[0m \u001B[43m        \u001B[49m\u001B[38;5;124;43m\"\u001B[39;49m\u001B[38;5;124;43mget\u001B[39;49m\u001B[38;5;124;43m\"\u001B[39;49m\u001B[43m,\u001B[49m\n\u001B[0;32m    312\u001B[0m \u001B[43m        \u001B[49m\u001B[43mrequest_url\u001B[49m\u001B[43m,\u001B[49m\n\u001B[0;32m    313\u001B[0m \u001B[43m        \u001B[49m\u001B[43mdata\u001B[49m\u001B[38;5;241;43m=\u001B[39;49m\u001B[43mrequest_params\u001B[49m\u001B[43m,\u001B[49m\n\u001B[0;32m    314\u001B[0m \u001B[43m        \u001B[49m\u001B[43mcustom_header\u001B[49m\u001B[38;5;241;43m=\u001B[39;49m\u001B[38;5;28;43mself\u001B[39;49m\u001B[38;5;241;43m.\u001B[39;49m\u001B[43mcustom_header\u001B[49m\u001B[43m,\u001B[49m\n\u001B[0;32m    315\u001B[0m \u001B[43m        \u001B[49m\u001B[43mtimeout\u001B[49m\u001B[38;5;241;43m=\u001B[39;49m\u001B[38;5;28;43mself\u001B[39;49m\u001B[38;5;241;43m.\u001B[39;49m\u001B[43mtimeout\u001B[49m\u001B[43m,\u001B[49m\n\u001B[0;32m    316\u001B[0m \u001B[43m    \u001B[49m\u001B[43m)\u001B[49m\n\u001B[0;32m    318\u001B[0m     \u001B[38;5;28;01mif\u001B[39;00m result\u001B[38;5;241m.\u001B[39mstatus_code \u001B[38;5;241m==\u001B[39m \u001B[38;5;241m404\u001B[39m:\n\u001B[0;32m    319\u001B[0m         \u001B[38;5;28;01mreturn\u001B[39;00m\n",
      "File \u001B[1;32mD:\\Program Files\\Python311\\Lib\\site-packages\\crossref\\restful.py:78\u001B[0m, in \u001B[0;36mHTTPRequest.do_http_request\u001B[1;34m(self, method, endpoint, data, files, timeout, only_headers, custom_header)\u001B[0m\n\u001B[0;32m     76\u001B[0m     result \u001B[38;5;241m=\u001B[39m action(endpoint, data\u001B[38;5;241m=\u001B[39mdata, files\u001B[38;5;241m=\u001B[39mfiles, timeout\u001B[38;5;241m=\u001B[39mtimeout, headers\u001B[38;5;241m=\u001B[39mheaders)\n\u001B[0;32m     77\u001B[0m \u001B[38;5;28;01melse\u001B[39;00m:\n\u001B[1;32m---> 78\u001B[0m     result \u001B[38;5;241m=\u001B[39m \u001B[43maction\u001B[49m\u001B[43m(\u001B[49m\u001B[43mendpoint\u001B[49m\u001B[43m,\u001B[49m\u001B[43m \u001B[49m\u001B[43mparams\u001B[49m\u001B[38;5;241;43m=\u001B[39;49m\u001B[43mdata\u001B[49m\u001B[43m,\u001B[49m\u001B[43m \u001B[49m\u001B[43mtimeout\u001B[49m\u001B[38;5;241;43m=\u001B[39;49m\u001B[43mtimeout\u001B[49m\u001B[43m,\u001B[49m\u001B[43m \u001B[49m\u001B[43mheaders\u001B[49m\u001B[38;5;241;43m=\u001B[39;49m\u001B[43mheaders\u001B[49m\u001B[43m)\u001B[49m\n\u001B[0;32m     80\u001B[0m \u001B[38;5;28;01mif\u001B[39;00m \u001B[38;5;28mself\u001B[39m\u001B[38;5;241m.\u001B[39mthrottle \u001B[38;5;129;01mis\u001B[39;00m \u001B[38;5;28;01mTrue\u001B[39;00m:\n\u001B[0;32m     81\u001B[0m     \u001B[38;5;28mself\u001B[39m\u001B[38;5;241m.\u001B[39m_update_rate_limits(result\u001B[38;5;241m.\u001B[39mheaders)\n",
      "File \u001B[1;32mD:\\Program Files\\Python311\\Lib\\site-packages\\requests\\api.py:73\u001B[0m, in \u001B[0;36mget\u001B[1;34m(url, params, **kwargs)\u001B[0m\n\u001B[0;32m     62\u001B[0m \u001B[38;5;28;01mdef\u001B[39;00m \u001B[38;5;21mget\u001B[39m(url, params\u001B[38;5;241m=\u001B[39m\u001B[38;5;28;01mNone\u001B[39;00m, \u001B[38;5;241m*\u001B[39m\u001B[38;5;241m*\u001B[39mkwargs):\n\u001B[0;32m     63\u001B[0m \u001B[38;5;250m    \u001B[39m\u001B[38;5;124mr\u001B[39m\u001B[38;5;124;03m\"\"\"Sends a GET request.\u001B[39;00m\n\u001B[0;32m     64\u001B[0m \n\u001B[0;32m     65\u001B[0m \u001B[38;5;124;03m    :param url: URL for the new :class:`Request` object.\u001B[39;00m\n\u001B[1;32m   (...)\u001B[0m\n\u001B[0;32m     70\u001B[0m \u001B[38;5;124;03m    :rtype: requests.Response\u001B[39;00m\n\u001B[0;32m     71\u001B[0m \u001B[38;5;124;03m    \"\"\"\u001B[39;00m\n\u001B[1;32m---> 73\u001B[0m     \u001B[38;5;28;01mreturn\u001B[39;00m \u001B[43mrequest\u001B[49m\u001B[43m(\u001B[49m\u001B[38;5;124;43m\"\u001B[39;49m\u001B[38;5;124;43mget\u001B[39;49m\u001B[38;5;124;43m\"\u001B[39;49m\u001B[43m,\u001B[49m\u001B[43m \u001B[49m\u001B[43murl\u001B[49m\u001B[43m,\u001B[49m\u001B[43m \u001B[49m\u001B[43mparams\u001B[49m\u001B[38;5;241;43m=\u001B[39;49m\u001B[43mparams\u001B[49m\u001B[43m,\u001B[49m\u001B[43m \u001B[49m\u001B[38;5;241;43m*\u001B[39;49m\u001B[38;5;241;43m*\u001B[39;49m\u001B[43mkwargs\u001B[49m\u001B[43m)\u001B[49m\n",
      "File \u001B[1;32mD:\\Program Files\\Python311\\Lib\\site-packages\\requests\\api.py:59\u001B[0m, in \u001B[0;36mrequest\u001B[1;34m(method, url, **kwargs)\u001B[0m\n\u001B[0;32m     55\u001B[0m \u001B[38;5;66;03m# By using the 'with' statement we are sure the session is closed, thus we\u001B[39;00m\n\u001B[0;32m     56\u001B[0m \u001B[38;5;66;03m# avoid leaving sockets open which can trigger a ResourceWarning in some\u001B[39;00m\n\u001B[0;32m     57\u001B[0m \u001B[38;5;66;03m# cases, and look like a memory leak in others.\u001B[39;00m\n\u001B[0;32m     58\u001B[0m \u001B[38;5;28;01mwith\u001B[39;00m sessions\u001B[38;5;241m.\u001B[39mSession() \u001B[38;5;28;01mas\u001B[39;00m session:\n\u001B[1;32m---> 59\u001B[0m     \u001B[38;5;28;01mreturn\u001B[39;00m \u001B[43msession\u001B[49m\u001B[38;5;241;43m.\u001B[39;49m\u001B[43mrequest\u001B[49m\u001B[43m(\u001B[49m\u001B[43mmethod\u001B[49m\u001B[38;5;241;43m=\u001B[39;49m\u001B[43mmethod\u001B[49m\u001B[43m,\u001B[49m\u001B[43m \u001B[49m\u001B[43murl\u001B[49m\u001B[38;5;241;43m=\u001B[39;49m\u001B[43murl\u001B[49m\u001B[43m,\u001B[49m\u001B[43m \u001B[49m\u001B[38;5;241;43m*\u001B[39;49m\u001B[38;5;241;43m*\u001B[39;49m\u001B[43mkwargs\u001B[49m\u001B[43m)\u001B[49m\n",
      "File \u001B[1;32mD:\\Program Files\\Python311\\Lib\\site-packages\\requests\\sessions.py:589\u001B[0m, in \u001B[0;36mSession.request\u001B[1;34m(self, method, url, params, data, headers, cookies, files, auth, timeout, allow_redirects, proxies, hooks, stream, verify, cert, json)\u001B[0m\n\u001B[0;32m    584\u001B[0m send_kwargs \u001B[38;5;241m=\u001B[39m {\n\u001B[0;32m    585\u001B[0m     \u001B[38;5;124m\"\u001B[39m\u001B[38;5;124mtimeout\u001B[39m\u001B[38;5;124m\"\u001B[39m: timeout,\n\u001B[0;32m    586\u001B[0m     \u001B[38;5;124m\"\u001B[39m\u001B[38;5;124mallow_redirects\u001B[39m\u001B[38;5;124m\"\u001B[39m: allow_redirects,\n\u001B[0;32m    587\u001B[0m }\n\u001B[0;32m    588\u001B[0m send_kwargs\u001B[38;5;241m.\u001B[39mupdate(settings)\n\u001B[1;32m--> 589\u001B[0m resp \u001B[38;5;241m=\u001B[39m \u001B[38;5;28;43mself\u001B[39;49m\u001B[38;5;241;43m.\u001B[39;49m\u001B[43msend\u001B[49m\u001B[43m(\u001B[49m\u001B[43mprep\u001B[49m\u001B[43m,\u001B[49m\u001B[43m \u001B[49m\u001B[38;5;241;43m*\u001B[39;49m\u001B[38;5;241;43m*\u001B[39;49m\u001B[43msend_kwargs\u001B[49m\u001B[43m)\u001B[49m\n\u001B[0;32m    591\u001B[0m \u001B[38;5;28;01mreturn\u001B[39;00m resp\n",
      "File \u001B[1;32mD:\\Program Files\\Python311\\Lib\\site-packages\\requests\\sessions.py:703\u001B[0m, in \u001B[0;36mSession.send\u001B[1;34m(self, request, **kwargs)\u001B[0m\n\u001B[0;32m    700\u001B[0m start \u001B[38;5;241m=\u001B[39m preferred_clock()\n\u001B[0;32m    702\u001B[0m \u001B[38;5;66;03m# Send the request\u001B[39;00m\n\u001B[1;32m--> 703\u001B[0m r \u001B[38;5;241m=\u001B[39m \u001B[43madapter\u001B[49m\u001B[38;5;241;43m.\u001B[39;49m\u001B[43msend\u001B[49m\u001B[43m(\u001B[49m\u001B[43mrequest\u001B[49m\u001B[43m,\u001B[49m\u001B[43m \u001B[49m\u001B[38;5;241;43m*\u001B[39;49m\u001B[38;5;241;43m*\u001B[39;49m\u001B[43mkwargs\u001B[49m\u001B[43m)\u001B[49m\n\u001B[0;32m    705\u001B[0m \u001B[38;5;66;03m# Total elapsed time of the request (approximately)\u001B[39;00m\n\u001B[0;32m    706\u001B[0m elapsed \u001B[38;5;241m=\u001B[39m preferred_clock() \u001B[38;5;241m-\u001B[39m start\n",
      "File \u001B[1;32mD:\\Program Files\\Python311\\Lib\\site-packages\\requests\\adapters.py:486\u001B[0m, in \u001B[0;36mHTTPAdapter.send\u001B[1;34m(self, request, stream, timeout, verify, cert, proxies)\u001B[0m\n\u001B[0;32m    483\u001B[0m     timeout \u001B[38;5;241m=\u001B[39m TimeoutSauce(connect\u001B[38;5;241m=\u001B[39mtimeout, read\u001B[38;5;241m=\u001B[39mtimeout)\n\u001B[0;32m    485\u001B[0m \u001B[38;5;28;01mtry\u001B[39;00m:\n\u001B[1;32m--> 486\u001B[0m     resp \u001B[38;5;241m=\u001B[39m \u001B[43mconn\u001B[49m\u001B[38;5;241;43m.\u001B[39;49m\u001B[43murlopen\u001B[49m\u001B[43m(\u001B[49m\n\u001B[0;32m    487\u001B[0m \u001B[43m        \u001B[49m\u001B[43mmethod\u001B[49m\u001B[38;5;241;43m=\u001B[39;49m\u001B[43mrequest\u001B[49m\u001B[38;5;241;43m.\u001B[39;49m\u001B[43mmethod\u001B[49m\u001B[43m,\u001B[49m\n\u001B[0;32m    488\u001B[0m \u001B[43m        \u001B[49m\u001B[43murl\u001B[49m\u001B[38;5;241;43m=\u001B[39;49m\u001B[43murl\u001B[49m\u001B[43m,\u001B[49m\n\u001B[0;32m    489\u001B[0m \u001B[43m        \u001B[49m\u001B[43mbody\u001B[49m\u001B[38;5;241;43m=\u001B[39;49m\u001B[43mrequest\u001B[49m\u001B[38;5;241;43m.\u001B[39;49m\u001B[43mbody\u001B[49m\u001B[43m,\u001B[49m\n\u001B[0;32m    490\u001B[0m \u001B[43m        \u001B[49m\u001B[43mheaders\u001B[49m\u001B[38;5;241;43m=\u001B[39;49m\u001B[43mrequest\u001B[49m\u001B[38;5;241;43m.\u001B[39;49m\u001B[43mheaders\u001B[49m\u001B[43m,\u001B[49m\n\u001B[0;32m    491\u001B[0m \u001B[43m        \u001B[49m\u001B[43mredirect\u001B[49m\u001B[38;5;241;43m=\u001B[39;49m\u001B[38;5;28;43;01mFalse\u001B[39;49;00m\u001B[43m,\u001B[49m\n\u001B[0;32m    492\u001B[0m \u001B[43m        \u001B[49m\u001B[43massert_same_host\u001B[49m\u001B[38;5;241;43m=\u001B[39;49m\u001B[38;5;28;43;01mFalse\u001B[39;49;00m\u001B[43m,\u001B[49m\n\u001B[0;32m    493\u001B[0m \u001B[43m        \u001B[49m\u001B[43mpreload_content\u001B[49m\u001B[38;5;241;43m=\u001B[39;49m\u001B[38;5;28;43;01mFalse\u001B[39;49;00m\u001B[43m,\u001B[49m\n\u001B[0;32m    494\u001B[0m \u001B[43m        \u001B[49m\u001B[43mdecode_content\u001B[49m\u001B[38;5;241;43m=\u001B[39;49m\u001B[38;5;28;43;01mFalse\u001B[39;49;00m\u001B[43m,\u001B[49m\n\u001B[0;32m    495\u001B[0m \u001B[43m        \u001B[49m\u001B[43mretries\u001B[49m\u001B[38;5;241;43m=\u001B[39;49m\u001B[38;5;28;43mself\u001B[39;49m\u001B[38;5;241;43m.\u001B[39;49m\u001B[43mmax_retries\u001B[49m\u001B[43m,\u001B[49m\n\u001B[0;32m    496\u001B[0m \u001B[43m        \u001B[49m\u001B[43mtimeout\u001B[49m\u001B[38;5;241;43m=\u001B[39;49m\u001B[43mtimeout\u001B[49m\u001B[43m,\u001B[49m\n\u001B[0;32m    497\u001B[0m \u001B[43m        \u001B[49m\u001B[43mchunked\u001B[49m\u001B[38;5;241;43m=\u001B[39;49m\u001B[43mchunked\u001B[49m\u001B[43m,\u001B[49m\n\u001B[0;32m    498\u001B[0m \u001B[43m    \u001B[49m\u001B[43m)\u001B[49m\n\u001B[0;32m    500\u001B[0m \u001B[38;5;28;01mexcept\u001B[39;00m (ProtocolError, \u001B[38;5;167;01mOSError\u001B[39;00m) \u001B[38;5;28;01mas\u001B[39;00m err:\n\u001B[0;32m    501\u001B[0m     \u001B[38;5;28;01mraise\u001B[39;00m \u001B[38;5;167;01mConnectionError\u001B[39;00m(err, request\u001B[38;5;241m=\u001B[39mrequest)\n",
      "File \u001B[1;32mD:\\Program Files\\Python311\\Lib\\site-packages\\urllib3\\connectionpool.py:714\u001B[0m, in \u001B[0;36mHTTPConnectionPool.urlopen\u001B[1;34m(self, method, url, body, headers, retries, redirect, assert_same_host, timeout, pool_timeout, release_conn, chunked, body_pos, **response_kw)\u001B[0m\n\u001B[0;32m    711\u001B[0m     \u001B[38;5;28mself\u001B[39m\u001B[38;5;241m.\u001B[39m_prepare_proxy(conn)\n\u001B[0;32m    713\u001B[0m \u001B[38;5;66;03m# Make the request on the httplib connection object.\u001B[39;00m\n\u001B[1;32m--> 714\u001B[0m httplib_response \u001B[38;5;241m=\u001B[39m \u001B[38;5;28;43mself\u001B[39;49m\u001B[38;5;241;43m.\u001B[39;49m\u001B[43m_make_request\u001B[49m\u001B[43m(\u001B[49m\n\u001B[0;32m    715\u001B[0m \u001B[43m    \u001B[49m\u001B[43mconn\u001B[49m\u001B[43m,\u001B[49m\n\u001B[0;32m    716\u001B[0m \u001B[43m    \u001B[49m\u001B[43mmethod\u001B[49m\u001B[43m,\u001B[49m\n\u001B[0;32m    717\u001B[0m \u001B[43m    \u001B[49m\u001B[43murl\u001B[49m\u001B[43m,\u001B[49m\n\u001B[0;32m    718\u001B[0m \u001B[43m    \u001B[49m\u001B[43mtimeout\u001B[49m\u001B[38;5;241;43m=\u001B[39;49m\u001B[43mtimeout_obj\u001B[49m\u001B[43m,\u001B[49m\n\u001B[0;32m    719\u001B[0m \u001B[43m    \u001B[49m\u001B[43mbody\u001B[49m\u001B[38;5;241;43m=\u001B[39;49m\u001B[43mbody\u001B[49m\u001B[43m,\u001B[49m\n\u001B[0;32m    720\u001B[0m \u001B[43m    \u001B[49m\u001B[43mheaders\u001B[49m\u001B[38;5;241;43m=\u001B[39;49m\u001B[43mheaders\u001B[49m\u001B[43m,\u001B[49m\n\u001B[0;32m    721\u001B[0m \u001B[43m    \u001B[49m\u001B[43mchunked\u001B[49m\u001B[38;5;241;43m=\u001B[39;49m\u001B[43mchunked\u001B[49m\u001B[43m,\u001B[49m\n\u001B[0;32m    722\u001B[0m \u001B[43m\u001B[49m\u001B[43m)\u001B[49m\n\u001B[0;32m    724\u001B[0m \u001B[38;5;66;03m# If we're going to release the connection in ``finally:``, then\u001B[39;00m\n\u001B[0;32m    725\u001B[0m \u001B[38;5;66;03m# the response doesn't need to know about the connection. Otherwise\u001B[39;00m\n\u001B[0;32m    726\u001B[0m \u001B[38;5;66;03m# it will also try to release it and we'll have a double-release\u001B[39;00m\n\u001B[0;32m    727\u001B[0m \u001B[38;5;66;03m# mess.\u001B[39;00m\n\u001B[0;32m    728\u001B[0m response_conn \u001B[38;5;241m=\u001B[39m conn \u001B[38;5;28;01mif\u001B[39;00m \u001B[38;5;129;01mnot\u001B[39;00m release_conn \u001B[38;5;28;01melse\u001B[39;00m \u001B[38;5;28;01mNone\u001B[39;00m\n",
      "File \u001B[1;32mD:\\Program Files\\Python311\\Lib\\site-packages\\urllib3\\connectionpool.py:466\u001B[0m, in \u001B[0;36mHTTPConnectionPool._make_request\u001B[1;34m(self, conn, method, url, timeout, chunked, **httplib_request_kw)\u001B[0m\n\u001B[0;32m    461\u001B[0m             httplib_response \u001B[38;5;241m=\u001B[39m conn\u001B[38;5;241m.\u001B[39mgetresponse()\n\u001B[0;32m    462\u001B[0m         \u001B[38;5;28;01mexcept\u001B[39;00m \u001B[38;5;167;01mBaseException\u001B[39;00m \u001B[38;5;28;01mas\u001B[39;00m e:\n\u001B[0;32m    463\u001B[0m             \u001B[38;5;66;03m# Remove the TypeError from the exception chain in\u001B[39;00m\n\u001B[0;32m    464\u001B[0m             \u001B[38;5;66;03m# Python 3 (including for exceptions like SystemExit).\u001B[39;00m\n\u001B[0;32m    465\u001B[0m             \u001B[38;5;66;03m# Otherwise it looks like a bug in the code.\u001B[39;00m\n\u001B[1;32m--> 466\u001B[0m             \u001B[43msix\u001B[49m\u001B[38;5;241;43m.\u001B[39;49m\u001B[43mraise_from\u001B[49m\u001B[43m(\u001B[49m\u001B[43me\u001B[49m\u001B[43m,\u001B[49m\u001B[43m \u001B[49m\u001B[38;5;28;43;01mNone\u001B[39;49;00m\u001B[43m)\u001B[49m\n\u001B[0;32m    467\u001B[0m \u001B[38;5;28;01mexcept\u001B[39;00m (SocketTimeout, BaseSSLError, SocketError) \u001B[38;5;28;01mas\u001B[39;00m e:\n\u001B[0;32m    468\u001B[0m     \u001B[38;5;28mself\u001B[39m\u001B[38;5;241m.\u001B[39m_raise_timeout(err\u001B[38;5;241m=\u001B[39me, url\u001B[38;5;241m=\u001B[39murl, timeout_value\u001B[38;5;241m=\u001B[39mread_timeout)\n",
      "File \u001B[1;32m<string>:3\u001B[0m, in \u001B[0;36mraise_from\u001B[1;34m(value, from_value)\u001B[0m\n",
      "File \u001B[1;32mD:\\Program Files\\Python311\\Lib\\site-packages\\urllib3\\connectionpool.py:461\u001B[0m, in \u001B[0;36mHTTPConnectionPool._make_request\u001B[1;34m(self, conn, method, url, timeout, chunked, **httplib_request_kw)\u001B[0m\n\u001B[0;32m    458\u001B[0m \u001B[38;5;28;01mexcept\u001B[39;00m \u001B[38;5;167;01mTypeError\u001B[39;00m:\n\u001B[0;32m    459\u001B[0m     \u001B[38;5;66;03m# Python 3\u001B[39;00m\n\u001B[0;32m    460\u001B[0m     \u001B[38;5;28;01mtry\u001B[39;00m:\n\u001B[1;32m--> 461\u001B[0m         httplib_response \u001B[38;5;241m=\u001B[39m \u001B[43mconn\u001B[49m\u001B[38;5;241;43m.\u001B[39;49m\u001B[43mgetresponse\u001B[49m\u001B[43m(\u001B[49m\u001B[43m)\u001B[49m\n\u001B[0;32m    462\u001B[0m     \u001B[38;5;28;01mexcept\u001B[39;00m \u001B[38;5;167;01mBaseException\u001B[39;00m \u001B[38;5;28;01mas\u001B[39;00m e:\n\u001B[0;32m    463\u001B[0m         \u001B[38;5;66;03m# Remove the TypeError from the exception chain in\u001B[39;00m\n\u001B[0;32m    464\u001B[0m         \u001B[38;5;66;03m# Python 3 (including for exceptions like SystemExit).\u001B[39;00m\n\u001B[0;32m    465\u001B[0m         \u001B[38;5;66;03m# Otherwise it looks like a bug in the code.\u001B[39;00m\n\u001B[0;32m    466\u001B[0m         six\u001B[38;5;241m.\u001B[39mraise_from(e, \u001B[38;5;28;01mNone\u001B[39;00m)\n",
      "File \u001B[1;32mD:\\Program Files\\Python311\\Lib\\http\\client.py:1378\u001B[0m, in \u001B[0;36mHTTPConnection.getresponse\u001B[1;34m(self)\u001B[0m\n\u001B[0;32m   1376\u001B[0m \u001B[38;5;28;01mtry\u001B[39;00m:\n\u001B[0;32m   1377\u001B[0m     \u001B[38;5;28;01mtry\u001B[39;00m:\n\u001B[1;32m-> 1378\u001B[0m         \u001B[43mresponse\u001B[49m\u001B[38;5;241;43m.\u001B[39;49m\u001B[43mbegin\u001B[49m\u001B[43m(\u001B[49m\u001B[43m)\u001B[49m\n\u001B[0;32m   1379\u001B[0m     \u001B[38;5;28;01mexcept\u001B[39;00m \u001B[38;5;167;01mConnectionError\u001B[39;00m:\n\u001B[0;32m   1380\u001B[0m         \u001B[38;5;28mself\u001B[39m\u001B[38;5;241m.\u001B[39mclose()\n",
      "File \u001B[1;32mD:\\Program Files\\Python311\\Lib\\http\\client.py:318\u001B[0m, in \u001B[0;36mHTTPResponse.begin\u001B[1;34m(self)\u001B[0m\n\u001B[0;32m    316\u001B[0m \u001B[38;5;66;03m# read until we get a non-100 response\u001B[39;00m\n\u001B[0;32m    317\u001B[0m \u001B[38;5;28;01mwhile\u001B[39;00m \u001B[38;5;28;01mTrue\u001B[39;00m:\n\u001B[1;32m--> 318\u001B[0m     version, status, reason \u001B[38;5;241m=\u001B[39m \u001B[38;5;28;43mself\u001B[39;49m\u001B[38;5;241;43m.\u001B[39;49m\u001B[43m_read_status\u001B[49m\u001B[43m(\u001B[49m\u001B[43m)\u001B[49m\n\u001B[0;32m    319\u001B[0m     \u001B[38;5;28;01mif\u001B[39;00m status \u001B[38;5;241m!=\u001B[39m CONTINUE:\n\u001B[0;32m    320\u001B[0m         \u001B[38;5;28;01mbreak\u001B[39;00m\n",
      "File \u001B[1;32mD:\\Program Files\\Python311\\Lib\\http\\client.py:279\u001B[0m, in \u001B[0;36mHTTPResponse._read_status\u001B[1;34m(self)\u001B[0m\n\u001B[0;32m    278\u001B[0m \u001B[38;5;28;01mdef\u001B[39;00m \u001B[38;5;21m_read_status\u001B[39m(\u001B[38;5;28mself\u001B[39m):\n\u001B[1;32m--> 279\u001B[0m     line \u001B[38;5;241m=\u001B[39m \u001B[38;5;28mstr\u001B[39m(\u001B[38;5;28mself\u001B[39m\u001B[38;5;241m.\u001B[39mfp\u001B[38;5;241m.\u001B[39mreadline(_MAXLINE \u001B[38;5;241m+\u001B[39m \u001B[38;5;241m1\u001B[39m), \u001B[38;5;124m\"\u001B[39m\u001B[38;5;124miso-8859-1\u001B[39m\u001B[38;5;124m\"\u001B[39m)\n\u001B[0;32m    280\u001B[0m     \u001B[38;5;28;01mif\u001B[39;00m \u001B[38;5;28mlen\u001B[39m(line) \u001B[38;5;241m>\u001B[39m _MAXLINE:\n\u001B[0;32m    281\u001B[0m         \u001B[38;5;28;01mraise\u001B[39;00m LineTooLong(\u001B[38;5;124m\"\u001B[39m\u001B[38;5;124mstatus line\u001B[39m\u001B[38;5;124m\"\u001B[39m)\n",
      "File \u001B[1;32mD:\\Program Files\\Python311\\Lib\\socket.py:706\u001B[0m, in \u001B[0;36mSocketIO.readinto\u001B[1;34m(self, b)\u001B[0m\n\u001B[0;32m    704\u001B[0m \u001B[38;5;28;01mwhile\u001B[39;00m \u001B[38;5;28;01mTrue\u001B[39;00m:\n\u001B[0;32m    705\u001B[0m     \u001B[38;5;28;01mtry\u001B[39;00m:\n\u001B[1;32m--> 706\u001B[0m         \u001B[38;5;28;01mreturn\u001B[39;00m \u001B[38;5;28;43mself\u001B[39;49m\u001B[38;5;241;43m.\u001B[39;49m\u001B[43m_sock\u001B[49m\u001B[38;5;241;43m.\u001B[39;49m\u001B[43mrecv_into\u001B[49m\u001B[43m(\u001B[49m\u001B[43mb\u001B[49m\u001B[43m)\u001B[49m\n\u001B[0;32m    707\u001B[0m     \u001B[38;5;28;01mexcept\u001B[39;00m timeout:\n\u001B[0;32m    708\u001B[0m         \u001B[38;5;28mself\u001B[39m\u001B[38;5;241m.\u001B[39m_timeout_occurred \u001B[38;5;241m=\u001B[39m \u001B[38;5;28;01mTrue\u001B[39;00m\n",
      "File \u001B[1;32mD:\\Program Files\\Python311\\Lib\\ssl.py:1311\u001B[0m, in \u001B[0;36mSSLSocket.recv_into\u001B[1;34m(self, buffer, nbytes, flags)\u001B[0m\n\u001B[0;32m   1307\u001B[0m     \u001B[38;5;28;01mif\u001B[39;00m flags \u001B[38;5;241m!=\u001B[39m \u001B[38;5;241m0\u001B[39m:\n\u001B[0;32m   1308\u001B[0m         \u001B[38;5;28;01mraise\u001B[39;00m \u001B[38;5;167;01mValueError\u001B[39;00m(\n\u001B[0;32m   1309\u001B[0m           \u001B[38;5;124m\"\u001B[39m\u001B[38;5;124mnon-zero flags not allowed in calls to recv_into() on \u001B[39m\u001B[38;5;132;01m%s\u001B[39;00m\u001B[38;5;124m\"\u001B[39m \u001B[38;5;241m%\u001B[39m\n\u001B[0;32m   1310\u001B[0m           \u001B[38;5;28mself\u001B[39m\u001B[38;5;241m.\u001B[39m\u001B[38;5;18m__class__\u001B[39m)\n\u001B[1;32m-> 1311\u001B[0m     \u001B[38;5;28;01mreturn\u001B[39;00m \u001B[38;5;28;43mself\u001B[39;49m\u001B[38;5;241;43m.\u001B[39;49m\u001B[43mread\u001B[49m\u001B[43m(\u001B[49m\u001B[43mnbytes\u001B[49m\u001B[43m,\u001B[49m\u001B[43m \u001B[49m\u001B[43mbuffer\u001B[49m\u001B[43m)\u001B[49m\n\u001B[0;32m   1312\u001B[0m \u001B[38;5;28;01melse\u001B[39;00m:\n\u001B[0;32m   1313\u001B[0m     \u001B[38;5;28;01mreturn\u001B[39;00m \u001B[38;5;28msuper\u001B[39m()\u001B[38;5;241m.\u001B[39mrecv_into(buffer, nbytes, flags)\n",
      "File \u001B[1;32mD:\\Program Files\\Python311\\Lib\\ssl.py:1167\u001B[0m, in \u001B[0;36mSSLSocket.read\u001B[1;34m(self, len, buffer)\u001B[0m\n\u001B[0;32m   1165\u001B[0m \u001B[38;5;28;01mtry\u001B[39;00m:\n\u001B[0;32m   1166\u001B[0m     \u001B[38;5;28;01mif\u001B[39;00m buffer \u001B[38;5;129;01mis\u001B[39;00m \u001B[38;5;129;01mnot\u001B[39;00m \u001B[38;5;28;01mNone\u001B[39;00m:\n\u001B[1;32m-> 1167\u001B[0m         \u001B[38;5;28;01mreturn\u001B[39;00m \u001B[38;5;28;43mself\u001B[39;49m\u001B[38;5;241;43m.\u001B[39;49m\u001B[43m_sslobj\u001B[49m\u001B[38;5;241;43m.\u001B[39;49m\u001B[43mread\u001B[49m\u001B[43m(\u001B[49m\u001B[38;5;28;43mlen\u001B[39;49m\u001B[43m,\u001B[49m\u001B[43m \u001B[49m\u001B[43mbuffer\u001B[49m\u001B[43m)\u001B[49m\n\u001B[0;32m   1168\u001B[0m     \u001B[38;5;28;01melse\u001B[39;00m:\n\u001B[0;32m   1169\u001B[0m         \u001B[38;5;28;01mreturn\u001B[39;00m \u001B[38;5;28mself\u001B[39m\u001B[38;5;241m.\u001B[39m_sslobj\u001B[38;5;241m.\u001B[39mread(\u001B[38;5;28mlen\u001B[39m)\n",
      "\u001B[1;31mKeyboardInterrupt\u001B[0m: "
     ]
    }
   ],
   "source": [
    "#Select field's specified as (container_title) but must be one of: DOI, ISBN, ISSN, URL, abstract, accepted, alternative-id, approved, archive, article-number, assertion, author, chair, clinical-trial-number, container-title, content-created, content-domain, created, degree, deposited, editor, event, funder, group-title, indexed, is-referenced-by-count, issn-type, issue, issued, license, link, member, original-title, page, posted, prefix, published, published-online, published-print, publisher, publisher-location, reference, references-count, relation, score, short-container-title, short-title, standards-body, subject, subtitle, title, translator, type, update-policy, update-to, updated-by, volume\n",
    "count = 0 \n",
    "for item in query_result.sort(\"relevance\").select([\"DOI\",\"container-title\"]):\n",
    "    count +=1 \n",
    "    print(item,count)\n"
   ],
   "metadata": {
    "collapsed": false,
    "ExecuteTime": {
     "end_time": "2023-10-22T11:13:42.322574800Z",
     "start_time": "2023-10-22T11:13:34.254310700Z"
    }
   },
   "id": "79a7f21b872bc193"
  },
  {
   "cell_type": "code",
   "execution_count": 74,
   "outputs": [],
   "source": [
    "from crossref.restful import Journals\n",
    "journals = Journals()\n",
    "results = journals.works(issn=\"0022-1821\")"
   ],
   "metadata": {
    "collapsed": false,
    "ExecuteTime": {
     "end_time": "2023-10-22T11:49:50.152049900Z",
     "start_time": "2023-10-22T11:49:50.146532800Z"
    }
   },
   "id": "8c4cc13b05ffcbe2"
  },
  {
   "cell_type": "code",
   "execution_count": 83,
   "outputs": [
    {
     "data": {
      "text/plain": "{'last-status-check-time': 1697941987377,\n 'counts': {'current-dois': 121, 'backfile-dois': 1924, 'total-dois': 2045},\n 'breakdowns': {'dois-by-issued-year': [[2003, 136],\n   [2010, 46],\n   [2023, 45],\n   [2008, 44],\n   [2009, 42],\n   [1987, 42],\n   [1984, 41],\n   [2022, 39],\n   [2021, 37],\n   [2017, 37],\n   [1985, 36],\n   [2016, 35],\n   [2013, 35],\n   [2007, 35],\n   [1981, 35],\n   [2020, 34],\n   [2018, 34],\n   [1991, 34],\n   [2011, 33],\n   [1989, 33],\n   [1992, 32],\n   [1965, 32],\n   [2015, 31],\n   [2014, 31],\n   [2004, 31],\n   [1979, 31],\n   [1973, 31],\n   [2012, 30],\n   [2005, 30],\n   [1996, 30],\n   [1994, 30],\n   [1993, 30],\n   [1988, 30],\n   [1983, 30],\n   [1980, 30],\n   [1962, 30],\n   [1982, 29],\n   [1986, 28],\n   [1978, 28],\n   [2006, 26],\n   [1990, 26],\n   [1995, 25],\n   [1971, 25],\n   [1975, 24],\n   [2019, 23],\n   [1976, 23],\n   [1977, 22],\n   [1974, 22],\n   [1972, 22],\n   [1970, 22],\n   [1969, 22],\n   [1960, 22],\n   [1967, 21],\n   [1959, 20],\n   [1957, 20],\n   [1956, 20],\n   [2001, 19],\n   [1998, 19],\n   [1964, 19],\n   [1958, 19],\n   [1953, 19],\n   [1966, 18],\n   [1961, 18],\n   [1954, 18],\n   [1968, 17],\n   [1963, 17],\n   [1955, 17],\n   [2002, 10],\n   [1997, 9],\n   [1952, 6],\n   [2000, 4],\n   [1999, 4]]},\n 'publisher': 'Wiley (Blackwell Publishing)',\n 'coverage': {'affiliations-current': 0.8099173553719008,\n  'similarity-checking-current': 0.9090909090909091,\n  'descriptions-current': 0.0,\n  'ror-ids-current': 0.0,\n  'funders-backfile': 0.02754677754677755,\n  'licenses-backfile': 0.393970893970894,\n  'funders-current': 0.0,\n  'affiliations-backfile': 0.1273388773388773,\n  'resource-links-backfile': 0.393970893970894,\n  'orcids-backfile': 0.0,\n  'update-policies-current': 0.9090909090909091,\n  'ror-ids-backfile': 0.0,\n  'orcids-current': 0.05785123966942149,\n  'similarity-checking-backfile': 0.3612266112266112,\n  'references-backfile': 0.2390852390852391,\n  'descriptions-backfile': 0.0,\n  'award-numbers-backfile': 0.01403326403326403,\n  'update-policies-backfile': 0.04158004158004158,\n  'licenses-current': 0.9090909090909091,\n  'award-numbers-current': 0.0,\n  'abstracts-backfile': 0.1813929313929314,\n  'resource-links-current': 0.5619834710743802,\n  'abstracts-current': 0.8099173553719008,\n  'references-current': 0.8181818181818182},\n 'title': 'Journal of Industrial Economics',\n 'subjects': [{'ASJC': 2002, 'name': 'Economics and Econometrics'},\n  {'ASJC': 1400, 'name': 'General Business, Management and Accounting'},\n  {'ASJC': 1402, 'name': 'Accounting'}],\n 'coverage-type': {'all': {'last-status-check-time': 1697941987377,\n   'affiliations': 0.167644183773216,\n   'abstracts': 0.218475073313783,\n   'orcids': 0.003421309872922776,\n   'licenses': 0.4242424242424242,\n   'references': 0.2732160312805474,\n   'funders': 0.02590420332355816,\n   'similarity-checking': 0.3934506353861193,\n   'award-numbers': 0.01319648093841642,\n   'ror-ids': 0.0,\n   'update-policies': 0.09286412512218964,\n   'resource-links': 0.4037145650048876,\n   'descriptions': 0.0},\n  'backfile': {'last-status-check-time': 1697941987377,\n   'affiliations': 0.1273388773388773,\n   'abstracts': 0.1813929313929314,\n   'orcids': 0.0,\n   'licenses': 0.393970893970894,\n   'references': 0.2390852390852391,\n   'funders': 0.02754677754677755,\n   'similarity-checking': 0.3612266112266112,\n   'award-numbers': 0.01403326403326403,\n   'ror-ids': 0.0,\n   'update-policies': 0.04158004158004158,\n   'resource-links': 0.393970893970894,\n   'descriptions': 0.0},\n  'current': {'last-status-check-time': 1697941987377,\n   'affiliations': 0.8099173553719008,\n   'abstracts': 0.8099173553719008,\n   'orcids': 0.05785123966942149,\n   'licenses': 0.9090909090909091,\n   'references': 0.8181818181818182,\n   'funders': 0.0,\n   'similarity-checking': 0.9090909090909091,\n   'award-numbers': 0.0,\n   'ror-ids': 0.0,\n   'update-policies': 0.9090909090909091,\n   'resource-links': 0.5619834710743802,\n   'descriptions': 0.0}},\n 'flags': {'deposits-abstracts-current': True,\n  'deposits-orcids-current': True,\n  'deposits': True,\n  'deposits-affiliations-backfile': True,\n  'deposits-update-policies-backfile': True,\n  'deposits-similarity-checking-backfile': True,\n  'deposits-award-numbers-current': False,\n  'deposits-resource-links-current': True,\n  'deposits-ror-ids-current': False,\n  'deposits-articles': True,\n  'deposits-affiliations-current': True,\n  'deposits-funders-current': False,\n  'deposits-references-backfile': True,\n  'deposits-ror-ids-backfile': False,\n  'deposits-abstracts-backfile': True,\n  'deposits-licenses-backfile': True,\n  'deposits-award-numbers-backfile': True,\n  'deposits-descriptions-current': False,\n  'deposits-references-current': True,\n  'deposits-resource-links-backfile': True,\n  'deposits-descriptions-backfile': False,\n  'deposits-orcids-backfile': False,\n  'deposits-funders-backfile': True,\n  'deposits-update-policies-current': True,\n  'deposits-similarity-checking-current': True,\n  'deposits-licenses-current': True},\n 'ISSN': ['0022-1821', '1467-6451'],\n 'issn-type': [{'value': '0022-1821', 'type': 'print'},\n  {'value': '1467-6451', 'type': 'electronic'}]}"
     },
     "execution_count": 83,
     "metadata": {},
     "output_type": "execute_result"
    }
   ],
   "source": [
    "journals.journal(\"0022-1821\")"
   ],
   "metadata": {
    "collapsed": false,
    "ExecuteTime": {
     "end_time": "2023-10-22T12:25:08.729421300Z",
     "start_time": "2023-10-22T12:25:07.590653900Z"
    }
   },
   "id": "c9646cec9b9b57a4"
  },
  {
   "cell_type": "code",
   "execution_count": 80,
   "outputs": [
    {
     "data": {
      "text/plain": "868"
     },
     "execution_count": 80,
     "metadata": {},
     "output_type": "execute_result"
    }
   ],
   "source": [
    "results.filter(from_pub_date = \"2000\").count()"
   ],
   "metadata": {
    "collapsed": false,
    "ExecuteTime": {
     "end_time": "2023-10-22T12:24:28.718061800Z",
     "start_time": "2023-10-22T12:24:26.999342700Z"
    }
   },
   "id": "2165f94029e0b6ac"
  },
  {
   "cell_type": "code",
   "execution_count": 110,
   "outputs": [],
   "source": [],
   "metadata": {
    "collapsed": false,
    "ExecuteTime": {
     "end_time": "2023-10-22T12:39:54.732631800Z",
     "start_time": "2023-10-22T12:39:54.713465300Z"
    }
   },
   "id": "23cb44a019b053"
  },
  {
   "cell_type": "code",
   "execution_count": 167,
   "outputs": [],
   "source": [
    "authors_list = []\n",
    "title_list = []\n",
    "affiliations_list = []\n",
    "published_dates_list=[]\n",
    "journal_names_list=[]\n",
    "subjects_list=[]\n",
    "volumes_list=[]\n",
    "issues_list=[]\n",
    "URL_list=[]\n",
    "DOI_list=[]\n",
    "for item in results.filter(from_pub_date=\"2000\").select([\"container-title\",\"author\",\"DOI\",\"URL\",'subject','volume',\"title\",'issue',\"published-online\"]):\n",
    "    authors = [f\"{author.get('given', '')} {author.get('family', '')}\" for author in item.get('author', [])]\n",
    "    if len(authors) >0:\n",
    "        authors_list.append('; '.join(authors))\n",
    "        # Get the affiliations\n",
    "        affiliations = [aff.get('name', '') for author in item.get('author', []) for aff in author.get('affiliation', [])]\n",
    "        affiliations_list.append('; '.join(affiliations))\n",
    "        title_list.append(item.get('title', '')[0])\n",
    "        published_date = '-'.join(str(part) for part in item.get('published-online', {}).get('date-parts', [[]])[0])\n",
    "        published_dates_list.append(published_date)\n",
    "        journal_names_list.append(item.get('container-title', [''])[0])\n",
    "        subjects_list.append('; '.join(item.get('subject', [])))\n",
    "        volumes_list.append(item.get('volume', ''))\n",
    "        issues_list.append(item.get('issue', ''))\n",
    "        URL_list.append(item.get('URL',''))\n",
    "        DOI_list.append(item.get('DOI',''))"
   ],
   "metadata": {
    "collapsed": false,
    "ExecuteTime": {
     "end_time": "2023-10-22T13:40:33.548109300Z",
     "start_time": "2023-10-22T13:40:10.943568100Z"
    }
   },
   "id": "5b5f58e061b94295"
  },
  {
   "cell_type": "code",
   "execution_count": 163,
   "outputs": [
    {
     "name": "stdout",
     "output_type": "stream",
     "text": [
      "Naked Exclusion in the Lab: The Case of Sequential Contracting\n",
      "SPLINTERING AND INERTIA IN NETWORK INDUSTRIES<sup>*</sup>\n",
      "Sincerest Form of Flattery? Product Innovation and Imitation in the European Automobile Industry\n",
      "Asymmetric Cost Pass‐Through in Multi‐Unit Procurement Auctions: An Experimental Approach*\n"
     ]
    },
    {
     "ename": "TypeError",
     "evalue": "'NoneType' object is not subscriptable",
     "output_type": "error",
     "traceback": [
      "\u001B[1;31m---------------------------------------------------------------------------\u001B[0m",
      "\u001B[1;31mTypeError\u001B[0m                                 Traceback (most recent call last)",
      "Cell \u001B[1;32mIn[163], line 2\u001B[0m\n\u001B[0;32m      1\u001B[0m \u001B[38;5;28;01mfor\u001B[39;00m item \u001B[38;5;129;01min\u001B[39;00m results\u001B[38;5;241m.\u001B[39mfilter(from_pub_date\u001B[38;5;241m=\u001B[39m\u001B[38;5;124m\"\u001B[39m\u001B[38;5;124m2000\u001B[39m\u001B[38;5;124m\"\u001B[39m)\u001B[38;5;241m.\u001B[39mselect([\u001B[38;5;124m\"\u001B[39m\u001B[38;5;124mcontainer-title\u001B[39m\u001B[38;5;124m\"\u001B[39m,\u001B[38;5;124m\"\u001B[39m\u001B[38;5;124mauthor\u001B[39m\u001B[38;5;124m\"\u001B[39m,\u001B[38;5;124m\"\u001B[39m\u001B[38;5;124mDOI\u001B[39m\u001B[38;5;124m\"\u001B[39m,\u001B[38;5;124m\"\u001B[39m\u001B[38;5;124mURL\u001B[39m\u001B[38;5;124m\"\u001B[39m,\u001B[38;5;124m'\u001B[39m\u001B[38;5;124msubject\u001B[39m\u001B[38;5;124m'\u001B[39m,\u001B[38;5;124m'\u001B[39m\u001B[38;5;124mvolume\u001B[39m\u001B[38;5;124m'\u001B[39m,\u001B[38;5;124m\"\u001B[39m\u001B[38;5;124mtitle\u001B[39m\u001B[38;5;124m\"\u001B[39m,\u001B[38;5;124m'\u001B[39m\u001B[38;5;124missue\u001B[39m\u001B[38;5;124m'\u001B[39m,\u001B[38;5;124m\"\u001B[39m\u001B[38;5;124mpublished-online\u001B[39m\u001B[38;5;124m\"\u001B[39m])\u001B[38;5;241m.\u001B[39msample(\u001B[38;5;241m100\u001B[39m):\n\u001B[1;32m----> 2\u001B[0m     \u001B[38;5;28mprint\u001B[39m(\u001B[43mitem\u001B[49m\u001B[38;5;241;43m.\u001B[39;49m\u001B[43mget\u001B[49m\u001B[43m(\u001B[49m\u001B[38;5;124;43m'\u001B[39;49m\u001B[38;5;124;43mtitle\u001B[39;49m\u001B[38;5;124;43m'\u001B[39;49m\u001B[43m)\u001B[49m\u001B[43m[\u001B[49m\u001B[38;5;241;43m0\u001B[39;49m\u001B[43m]\u001B[49m)\n",
      "\u001B[1;31mTypeError\u001B[0m: 'NoneType' object is not subscriptable"
     ]
    }
   ],
   "source": [
    "for item in results.filter(from_pub_date=\"2000\").select([\"container-title\",\"author\",\"DOI\",\"URL\",'subject','volume',\"title\",'issue',\"published-online\"]).sample(100):\n",
    "    print(item.get('title')[0])"
   ],
   "metadata": {
    "collapsed": false,
    "ExecuteTime": {
     "end_time": "2023-10-22T13:35:07.445630600Z",
     "start_time": "2023-10-22T13:34:59.918875300Z"
    }
   },
   "id": "5692ffe8309a3cb3"
  },
  {
   "cell_type": "code",
   "execution_count": 143,
   "outputs": [
    {
     "data": {
      "text/plain": "83"
     },
     "execution_count": 143,
     "metadata": {},
     "output_type": "execute_result"
    }
   ],
   "source": [
    "len(published_dates_list)"
   ],
   "metadata": {
    "collapsed": false,
    "ExecuteTime": {
     "end_time": "2023-10-22T13:08:33.379480600Z",
     "start_time": "2023-10-22T13:08:33.370163800Z"
    }
   },
   "id": "3c239e72eba4514e"
  },
  {
   "cell_type": "code",
   "execution_count": 168,
   "outputs": [],
   "source": [
    "data = {\n",
    "        'Authors': authors_list,\n",
    "        'Title' : title_list,\n",
    "        'Affiliations': affiliations_list,\n",
    "        'Published Date': published_dates_list,\n",
    "        'Journal Name ': journal_names_list, \n",
    "        'Subjects': subjects_list,\n",
    "        'Volume': volumes_list,\n",
    "        'Issue': issues_list,\n",
    "        'DOI': DOI_list,\n",
    "        'URL': URL_list\n",
    "\n",
    "    }\n",
    "df = pd.DataFrame(data)\n",
    "    \n",
    "# Save the DataFrame to a CSV file\n",
    "df.to_csv('publications.csv', index=True)"
   ],
   "metadata": {
    "collapsed": false,
    "ExecuteTime": {
     "end_time": "2023-10-22T13:40:33.566590200Z",
     "start_time": "2023-10-22T13:40:33.551109400Z"
    }
   },
   "id": "baa2f2b4b7c4f5b5"
  },
  {
   "cell_type": "code",
   "execution_count": null,
   "outputs": [],
   "source": [],
   "metadata": {
    "collapsed": false
   },
   "id": "cdb36fd42f77ed47"
  },
  {
   "cell_type": "code",
   "execution_count": 154,
   "outputs": [
    {
     "data": {
      "text/plain": "['2006-6',\n '',\n '2020-9',\n '',\n '2022-12',\n '2012-6',\n '',\n '2022-3',\n '',\n '2005-9',\n '2010-6',\n '2016-3',\n '2023-6',\n '2013-3',\n '2012-6',\n '2018-3',\n '2006-3',\n '2009-3',\n '2007-6',\n '2023-3',\n '2023-6',\n '2008-12',\n '',\n '2001-3',\n '2015-12',\n '',\n '2008-9',\n '',\n '2011-12',\n '2017-9',\n '2008-12',\n '2015-6',\n '2022-9',\n '2015-12',\n '',\n '2010-12',\n '2005-9',\n '2008-9',\n '2017-3',\n '2004-12',\n '2015-12',\n '2003-12',\n '2023-6',\n '2005-9',\n '2007-12',\n '2023-3',\n '2021-9',\n '2018-9',\n '2013-9',\n '2021-12',\n '2018-3',\n '2018-9',\n '',\n '2022-12',\n '2017-3',\n '2010-12',\n '2014-3',\n '2016-6',\n '2023-9',\n '2012-9',\n '2009-12',\n '2015-12',\n '2012-9',\n '2005-3',\n '2013-9',\n '2001-3',\n '2021-6',\n '2011-12',\n '2002-12',\n '2019-6',\n '2012-3',\n '',\n '2023-9',\n '',\n '2023-3',\n '',\n '2007-12',\n '2017-3',\n '2011-9',\n '',\n '2018-6',\n '',\n '',\n '2017-12']"
     },
     "execution_count": 154,
     "metadata": {},
     "output_type": "execute_result"
    }
   ],
   "source": [],
   "metadata": {
    "collapsed": false,
    "ExecuteTime": {
     "end_time": "2023-10-22T13:24:49.785196600Z",
     "start_time": "2023-10-22T13:24:49.760614900Z"
    }
   },
   "id": "12cd18db4463f6f5"
  },
  {
   "cell_type": "code",
   "execution_count": 169,
   "outputs": [
    {
     "data": {
      "text/plain": "                                               Authors  \\\n0                 Alessandro Bonatti; Matthew Mitchell   \n1                  Ricardo Cabral; Michael J. Leiblein   \n2    David Bardey; Denis Gromb; David Martimort; Jé...   \n3                   Marius Schwartz; Daniel R. Vincent   \n4                                     Paolo Buccirossi   \n..                                                 ...   \n729                              Yiyi Zhou; Shanjun Li   \n730  Daniel Bennett; Che‐Lun Hung; Tsai‐Ling Lauder...   \n731                               David Lucking-Reiley   \n732  Gaétan De Rassenfosse; Paul H. Jensen; T'Mir J...   \n733                 PIERRE RÉGIBEAU; KATHARINE ROCKETT   \n\n                                                 Title  \\\n0    Introduction to the Symposium on Contracts, Or...   \n1    Adoption of a Process Innovation with Learning...   \n2    Controlling Sellers Who Provide Advice: Regula...   \n3    Platform Competition With Cash‐Back Rebates Un...   \n4    A Search Model Where Consumers Choose Quantity...   \n..                                                 ...   \n729  Technology Adoption and Critical Mass: The Cas...   \n730  Health Care Competition and Antibiotic Use in ...   \n731  Auctions on the Internet: What’s Being Auction...   \n732  Is the Patent System an Even Playing Field? Th...   \n733  INNOVATION CYCLES AND LEARNING AT THE PATENT O...   \n\n                                          Affiliations Published Date  \\\n0                                                            2022-2-2   \n1                                                           2003-3-27   \n2    Department of Economics (CEDE) University of L...       2020-9-7   \n3    Department of Economics Georgetown University ...      2020-7-29   \n4                                                                       \n..                                                 ...            ...   \n729  Department of Economics and College of Busines...     2018-10-30   \n730  Harris School of Public Policy Studies Univers...      2015-6-15   \n731                                                         2003-3-27   \n732  Ecole Polytechnique Fédérale de Lausanne  Laus...       2023-4-5   \n733                                                                     \n\n                           Journal Name   \\\n0    The Journal of Industrial Economics   \n1    The Journal of Industrial Economics   \n2    The Journal of Industrial Economics   \n3    The Journal of Industrial Economics   \n4        Journal of Industrial Economics   \n..                                   ...   \n729  The Journal of Industrial Economics   \n730  The Journal of Industrial Economics   \n731  The Journal of Industrial Economics   \n732  The Journal of Industrial Economics   \n733  The Journal of Industrial Economics   \n\n                                              Subjects Volume Issue  \\\n0    Economics and Econometrics; General Business, ...     69     4   \n1    Economics and Econometrics; General Business, ...     49     3   \n2    Economics and Econometrics; General Business, ...     68     3   \n3    Economics and Econometrics; General Business, ...     68     2   \n4    Economics and Econometrics; General Business, ...     51     4   \n..                                                 ...    ...   ...   \n729  Economics and Econometrics; General Business, ...     66     2   \n730  Economics and Econometrics; General Business, ...     63     2   \n731  Economics and Econometrics; General Business, ...     48     3   \n732  Economics and Econometrics; General Business, ...     71     1   \n733  Economics and Econometrics; General Business, ...     58     2   \n\n                                  DOI  \\\n0                  10.1111/joie.12281   \n1             10.1111/1467-6451.00149   \n2                  10.1111/joie.12228   \n3                  10.1111/joie.12210   \n4    10.1111/j.0022-1821.2003.00208.x   \n..                                ...   \n729                10.1111/joie.12176   \n730                10.1111/joie.12075   \n731           10.1111/1467-6451.00122   \n732                10.1111/joie.12319   \n733  10.1111/j.1467-6451.2010.00418.x   \n\n                                                   URL  \n0                 http://dx.doi.org/10.1111/joie.12281  \n1            http://dx.doi.org/10.1111/1467-6451.00149  \n2                 http://dx.doi.org/10.1111/joie.12228  \n3                 http://dx.doi.org/10.1111/joie.12210  \n4    http://dx.doi.org/10.1111/j.0022-1821.2003.002...  \n..                                                 ...  \n729               http://dx.doi.org/10.1111/joie.12176  \n730               http://dx.doi.org/10.1111/joie.12075  \n731          http://dx.doi.org/10.1111/1467-6451.00122  \n732               http://dx.doi.org/10.1111/joie.12319  \n733  http://dx.doi.org/10.1111/j.1467-6451.2010.004...  \n\n[734 rows x 10 columns]",
      "text/html": "<div>\n<style scoped>\n    .dataframe tbody tr th:only-of-type {\n        vertical-align: middle;\n    }\n\n    .dataframe tbody tr th {\n        vertical-align: top;\n    }\n\n    .dataframe thead th {\n        text-align: right;\n    }\n</style>\n<table border=\"1\" class=\"dataframe\">\n  <thead>\n    <tr style=\"text-align: right;\">\n      <th></th>\n      <th>Authors</th>\n      <th>Title</th>\n      <th>Affiliations</th>\n      <th>Published Date</th>\n      <th>Journal Name</th>\n      <th>Subjects</th>\n      <th>Volume</th>\n      <th>Issue</th>\n      <th>DOI</th>\n      <th>URL</th>\n    </tr>\n  </thead>\n  <tbody>\n    <tr>\n      <th>0</th>\n      <td>Alessandro Bonatti; Matthew Mitchell</td>\n      <td>Introduction to the Symposium on Contracts, Or...</td>\n      <td></td>\n      <td>2022-2-2</td>\n      <td>The Journal of Industrial Economics</td>\n      <td>Economics and Econometrics; General Business, ...</td>\n      <td>69</td>\n      <td>4</td>\n      <td>10.1111/joie.12281</td>\n      <td>http://dx.doi.org/10.1111/joie.12281</td>\n    </tr>\n    <tr>\n      <th>1</th>\n      <td>Ricardo Cabral; Michael J. Leiblein</td>\n      <td>Adoption of a Process Innovation with Learning...</td>\n      <td></td>\n      <td>2003-3-27</td>\n      <td>The Journal of Industrial Economics</td>\n      <td>Economics and Econometrics; General Business, ...</td>\n      <td>49</td>\n      <td>3</td>\n      <td>10.1111/1467-6451.00149</td>\n      <td>http://dx.doi.org/10.1111/1467-6451.00149</td>\n    </tr>\n    <tr>\n      <th>2</th>\n      <td>David Bardey; Denis Gromb; David Martimort; Jé...</td>\n      <td>Controlling Sellers Who Provide Advice: Regula...</td>\n      <td>Department of Economics (CEDE) University of L...</td>\n      <td>2020-9-7</td>\n      <td>The Journal of Industrial Economics</td>\n      <td>Economics and Econometrics; General Business, ...</td>\n      <td>68</td>\n      <td>3</td>\n      <td>10.1111/joie.12228</td>\n      <td>http://dx.doi.org/10.1111/joie.12228</td>\n    </tr>\n    <tr>\n      <th>3</th>\n      <td>Marius Schwartz; Daniel R. Vincent</td>\n      <td>Platform Competition With Cash‐Back Rebates Un...</td>\n      <td>Department of Economics Georgetown University ...</td>\n      <td>2020-7-29</td>\n      <td>The Journal of Industrial Economics</td>\n      <td>Economics and Econometrics; General Business, ...</td>\n      <td>68</td>\n      <td>2</td>\n      <td>10.1111/joie.12210</td>\n      <td>http://dx.doi.org/10.1111/joie.12210</td>\n    </tr>\n    <tr>\n      <th>4</th>\n      <td>Paolo Buccirossi</td>\n      <td>A Search Model Where Consumers Choose Quantity...</td>\n      <td></td>\n      <td></td>\n      <td>Journal of Industrial Economics</td>\n      <td>Economics and Econometrics; General Business, ...</td>\n      <td>51</td>\n      <td>4</td>\n      <td>10.1111/j.0022-1821.2003.00208.x</td>\n      <td>http://dx.doi.org/10.1111/j.0022-1821.2003.002...</td>\n    </tr>\n    <tr>\n      <th>...</th>\n      <td>...</td>\n      <td>...</td>\n      <td>...</td>\n      <td>...</td>\n      <td>...</td>\n      <td>...</td>\n      <td>...</td>\n      <td>...</td>\n      <td>...</td>\n      <td>...</td>\n    </tr>\n    <tr>\n      <th>729</th>\n      <td>Yiyi Zhou; Shanjun Li</td>\n      <td>Technology Adoption and Critical Mass: The Cas...</td>\n      <td>Department of Economics and College of Busines...</td>\n      <td>2018-10-30</td>\n      <td>The Journal of Industrial Economics</td>\n      <td>Economics and Econometrics; General Business, ...</td>\n      <td>66</td>\n      <td>2</td>\n      <td>10.1111/joie.12176</td>\n      <td>http://dx.doi.org/10.1111/joie.12176</td>\n    </tr>\n    <tr>\n      <th>730</th>\n      <td>Daniel Bennett; Che‐Lun Hung; Tsai‐Ling Lauder...</td>\n      <td>Health Care Competition and Antibiotic Use in ...</td>\n      <td>Harris School of Public Policy Studies Univers...</td>\n      <td>2015-6-15</td>\n      <td>The Journal of Industrial Economics</td>\n      <td>Economics and Econometrics; General Business, ...</td>\n      <td>63</td>\n      <td>2</td>\n      <td>10.1111/joie.12075</td>\n      <td>http://dx.doi.org/10.1111/joie.12075</td>\n    </tr>\n    <tr>\n      <th>731</th>\n      <td>David Lucking-Reiley</td>\n      <td>Auctions on the Internet: What’s Being Auction...</td>\n      <td></td>\n      <td>2003-3-27</td>\n      <td>The Journal of Industrial Economics</td>\n      <td>Economics and Econometrics; General Business, ...</td>\n      <td>48</td>\n      <td>3</td>\n      <td>10.1111/1467-6451.00122</td>\n      <td>http://dx.doi.org/10.1111/1467-6451.00122</td>\n    </tr>\n    <tr>\n      <th>732</th>\n      <td>Gaétan De Rassenfosse; Paul H. Jensen; T'Mir J...</td>\n      <td>Is the Patent System an Even Playing Field? Th...</td>\n      <td>Ecole Polytechnique Fédérale de Lausanne  Laus...</td>\n      <td>2023-4-5</td>\n      <td>The Journal of Industrial Economics</td>\n      <td>Economics and Econometrics; General Business, ...</td>\n      <td>71</td>\n      <td>1</td>\n      <td>10.1111/joie.12319</td>\n      <td>http://dx.doi.org/10.1111/joie.12319</td>\n    </tr>\n    <tr>\n      <th>733</th>\n      <td>PIERRE RÉGIBEAU; KATHARINE ROCKETT</td>\n      <td>INNOVATION CYCLES AND LEARNING AT THE PATENT O...</td>\n      <td></td>\n      <td></td>\n      <td>The Journal of Industrial Economics</td>\n      <td>Economics and Econometrics; General Business, ...</td>\n      <td>58</td>\n      <td>2</td>\n      <td>10.1111/j.1467-6451.2010.00418.x</td>\n      <td>http://dx.doi.org/10.1111/j.1467-6451.2010.004...</td>\n    </tr>\n  </tbody>\n</table>\n<p>734 rows × 10 columns</p>\n</div>"
     },
     "execution_count": 169,
     "metadata": {},
     "output_type": "execute_result"
    }
   ],
   "source": [
    "df"
   ],
   "metadata": {
    "collapsed": false,
    "ExecuteTime": {
     "end_time": "2023-10-22T13:40:33.585064200Z",
     "start_time": "2023-10-22T13:40:33.568589200Z"
    }
   },
   "id": "a57c7c92f796327f"
  },
  {
   "cell_type": "code",
   "execution_count": null,
   "outputs": [],
   "source": [],
   "metadata": {
    "collapsed": false
   },
   "id": "5207998b3bbee8a2"
  }
 ],
 "metadata": {
  "kernelspec": {
   "display_name": "Python 3",
   "language": "python",
   "name": "python3"
  },
  "language_info": {
   "codemirror_mode": {
    "name": "ipython",
    "version": 2
   },
   "file_extension": ".py",
   "mimetype": "text/x-python",
   "name": "python",
   "nbconvert_exporter": "python",
   "pygments_lexer": "ipython2",
   "version": "2.7.6"
  }
 },
 "nbformat": 4,
 "nbformat_minor": 5
}
